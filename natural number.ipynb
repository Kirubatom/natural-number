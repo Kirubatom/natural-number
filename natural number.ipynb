{
 "cells": [
  {
   "cell_type": "code",
   "execution_count": 1,
   "id": "d8c8a374",
   "metadata": {},
   "outputs": [
    {
     "name": "stdout",
     "output_type": "stream",
     "text": [
      "enter a number:23\n",
      "THE SUM OF NATURAL NUMBER= 276\n"
     ]
    }
   ],
   "source": [
    "def findSum(num):\n",
    "    sum=0\n",
    "    x=1\n",
    "    while x<= num:\n",
    "         sum+=x\n",
    "         x+=1\n",
    "    return sum\n",
    "num=int(input(\"enter a number:\"))\n",
    "print('THE SUM OF NATURAL NUMBER=',findSum(num))\n"
   ]
  },
  {
   "cell_type": "code",
   "execution_count": null,
   "id": "d3d28627",
   "metadata": {},
   "outputs": [],
   "source": []
  }
 ],
 "metadata": {
  "kernelspec": {
   "display_name": "Python 3 (ipykernel)",
   "language": "python",
   "name": "python3"
  },
  "language_info": {
   "codemirror_mode": {
    "name": "ipython",
    "version": 3
   },
   "file_extension": ".py",
   "mimetype": "text/x-python",
   "name": "python",
   "nbconvert_exporter": "python",
   "pygments_lexer": "ipython3",
   "version": "3.9.7"
  }
 },
 "nbformat": 4,
 "nbformat_minor": 5
}
